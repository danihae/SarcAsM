{
 "cells": [
  {
   "cell_type": "markdown",
   "metadata": {
    "collapsed": true
   },
   "source": [
    "# Batch processing"
   ]
  },
  {
   "cell_type": "markdown",
   "metadata": {},
   "source": [
    "For large data sets, we recommend parallel batch processing for faster analysis. Below are script for structural and functional analysis."
   ]
  },
  {
   "cell_type": "markdown",
   "metadata": {},
   "source": [
    "## Structural analysis"
   ]
  },
  {
   "cell_type": "code",
   "execution_count": 3,
   "metadata": {},
   "outputs": [
    {
     "name": "stdout",
     "output_type": "stream",
     "text": [
      "0\n"
     ]
    }
   ],
   "source": [
    "# copy the code in .py file and execute .py file. \n",
    "\n",
    "from multiprocessing import Pool\n",
    "from sarcasm import *\n",
    "\n",
    "# select folder with tif files\n",
    "folder = 'D:/2023_SarcAsM_drugs_chronic/'\n",
    "\n",
    "# find all tif files in folder\n",
    "tif_files = glob.glob(folder + '*/*.tif')\n",
    "print(f'{len(tif_files)} tif-files found')\n",
    "\n",
    "# function for analysis of single tif-file\n",
    "def analyze_tif(file):\n",
    "    print(file)\n",
    "    # initialize SarcAsM object\n",
    "    sarc_obj = SarcAsM(file)\n",
    "\n",
    "    # predict sarcomere z-bands and cell area\n",
    "    sarc_obj.predict_z_bands(size=(2048, 2048))\n",
    "    sarc_obj.predict_cell_area(size=(2048, 2048))\n",
    "\n",
    "    # analyze cell area and sarcomere area\n",
    "    sarc_obj.analyze_cell_area(timepoints='all')\n",
    "    sarc_obj.analyze_sarcomere_area(timepoints='all')\n",
    "\n",
    "    # analyze sarcomere structures\n",
    "    sarc_obj.full_analysis_structure(timepoints='all')\n",
    "\n",
    "    print(f'{file} successfully analyzed!')\n",
    "\n",
    "\n",
    "# set number of pools\n",
    "n_pools = 3\n",
    "\n",
    "if __name__ == '__main__':\n",
    "    with Pool(n_pools) as p:\n",
    "        p.map(analyze_tif, tif_files)"
   ]
  },
  {
   "cell_type": "markdown",
   "metadata": {},
   "source": [
    "## Motion analysis"
   ]
  },
  {
   "cell_type": "code",
   "execution_count": 4,
   "metadata": {},
   "outputs": [
    {
     "name": "stdout",
     "output_type": "stream",
     "text": [
      "0 tif-files found\n"
     ]
    }
   ],
   "source": [
    "# copy the code in .py file and execute .py file. \n",
    "\n",
    "from multiprocessing import Pool\n",
    "from sarcasm import *\n",
    "\n",
    "folder = 'D:/SarcAsM_drugs/'\n",
    "\n",
    "# find files\n",
    "files = glob.glob(folder + '/*/*.tif')[::-1]\n",
    "print(f'{len(files)} tif-files found')\n",
    "\n",
    "\n",
    "def find_rois(file):\n",
    "    sarc_obj = SarcAsM(file)\n",
    "    sarc_obj.predict_z_bands(siam_unet=True)\n",
    "    sarc_obj.analyze_sarcomere_length_orient(timepoints=0)\n",
    "    sarc_obj.detect_rois(timepoint=0)\n",
    "\n",
    "\n",
    "def analyze_motion(file):\n",
    "    rois = get_rois_of_cell(file)\n",
    "    for file, roi in rois:\n",
    "        try:\n",
    "            mot_obj = Motion(file, roi)\n",
    "            mot_obj.full_analysis_roi()\n",
    "        except Exception as e:\n",
    "            print(file, roi)\n",
    "            print(repr(e))\n",
    "\n",
    "\n",
    "if __name__ == '__main__':\n",
    "    # find ROIs\n",
    "    with Pool(4) as p:\n",
    "        p.map(find_rois, files)\n",
    "    \n",
    "    # analyze ROIs\n",
    "    with Pool(12) as p:\n",
    "        p.map(analyze_motion, files)\n",
    "    \n",
    "    \n",
    "    "
   ]
  },
  {
   "cell_type": "markdown",
   "metadata": {},
   "source": [
    "## Create data frame with all data\n",
    "\n",
    "After analysis of a dataset of tif-files, SarcAsM can pool the data into a dataframe for comparative analyses.\n",
    "\n",
    "The `MultiStructureAnalysis` class is designed for multi-file comparison of structure. It allows users to iterate through a list of tif files, add metadata using regex functions, extract structure data, and store the data in one pandas DataFrame. Users can also save and load the DataFrame from a specified data folder. Details see [here](add_link).\n",
    "\n",
    "The `MultiROIAnalysis` class, on the other hand, is used for multi-ROI comparison. It enables users to iterate through a list of tif files and ROI names, add metadata using regex functions, extract motion data, and store the data in a pandas DataFrame. Similar to the MultiStructureAnalysis class, users can save and load the DataFrame from a specified data folder. Details see [here](add_link).\n",
    "\n",
    "Below is an example how to use `MultiStructureAnalysis` (analogous for `MultiROIAnalysis`).\n",
    "\n"
   ]
  },
  {
   "cell_type": "code",
   "execution_count": 1,
   "metadata": {},
   "outputs": [
    {
     "name": "stdout",
     "output_type": "stream",
     "text": [
      "0 tif-files found\n"
     ]
    },
    {
     "ename": "TypeError",
     "evalue": "__init__() missing 1 required positional argument: 'folder'",
     "output_type": "error",
     "traceback": [
      "\u001b[0;31m---------------------------------------------------------------------------\u001b[0m",
      "\u001b[0;31mTypeError\u001b[0m                                 Traceback (most recent call last)",
      "Input \u001b[0;32mIn [1]\u001b[0m, in \u001b[0;36m<cell line: 12>\u001b[0;34m()\u001b[0m\n\u001b[1;32m      9\u001b[0m tif_files \u001b[38;5;241m=\u001b[39m glob\u001b[38;5;241m.\u001b[39mglob(folder \u001b[38;5;241m+\u001b[39m \u001b[38;5;124m'\u001b[39m\u001b[38;5;124m*/*.tif\u001b[39m\u001b[38;5;124m'\u001b[39m)\n\u001b[1;32m     10\u001b[0m \u001b[38;5;28mprint\u001b[39m(\u001b[38;5;124mf\u001b[39m\u001b[38;5;124m'\u001b[39m\u001b[38;5;132;01m{\u001b[39;00m\u001b[38;5;28mlen\u001b[39m(tif_files)\u001b[38;5;132;01m}\u001b[39;00m\u001b[38;5;124m tif-files found\u001b[39m\u001b[38;5;124m'\u001b[39m)\n\u001b[0;32m---> 12\u001b[0m multi_structure \u001b[38;5;241m=\u001b[39m \u001b[43mMultiStructureAnalysis\u001b[49m\u001b[43m(\u001b[49m\u001b[43mtif_files\u001b[49m\u001b[43m,\u001b[49m\u001b[43m \u001b[49m\u001b[43m)\u001b[49m\n",
      "\u001b[0;31mTypeError\u001b[0m: __init__() missing 1 required positional argument: 'folder'"
     ]
    }
   ],
   "source": [
    "from sarcasm import *\n",
    "\n",
    "# select folder with tif files\n",
    "files_folder = 'D:/2023_SarcAsM_drugs_chronic/'\n",
    "data_folder\n",
    "\n",
    "\n",
    "# find all tif files in folder\n",
    "tif_files = glob.glob(folder + '*/*.tif')\n",
    "print(f'{len(tif_files)} tif-files found')\n",
    "\n",
    "# example regex function to extract date from filename (e.g. '20230502_wt_isoprenaline_10uM.tif')\n",
    "date = lambda filename: re.search(r'(\\d{4})(\\d{2})(\\d{2})', filename).group(0)\n",
    "\n",
    "# initialize MultiStructureAnalysis object\n",
    "multi_structure = MultiStructureAnalysis(list_files=tif_files, folder=data_folder, experiment='test', date=data)\n",
    "\n",
    "# get data from \n"
   ]
  },
  {
   "cell_type": "code",
   "execution_count": 2,
   "metadata": {},
   "outputs": [
    {
     "name": "stdout",
     "output_type": "stream",
     "text": [
      "20230502\n"
     ]
    }
   ],
   "source": [
    "import re\n",
    "\n",
    "filename = '20230502_wt_isoprenaline_10uM.tif'\n",
    "extract_date = lambda filename: re.search(r'(\\d{4})(\\d{2})(\\d{2})', filename).group(0)\n",
    "\n",
    "date = extract_date(filename)\n",
    "print(date)\n"
   ]
  },
  {
   "cell_type": "code",
   "execution_count": null,
   "metadata": {},
   "outputs": [],
   "source": []
  },
  {
   "cell_type": "code",
   "execution_count": null,
   "metadata": {},
   "outputs": [],
   "source": []
  },
  {
   "cell_type": "code",
   "execution_count": null,
   "metadata": {},
   "outputs": [],
   "source": []
  }
 ],
 "metadata": {
  "kernelspec": {
   "display_name": "Python 3 (ipykernel)",
   "language": "python",
   "name": "python3"
  },
  "language_info": {
   "codemirror_mode": {
    "name": "ipython",
    "version": 3
   },
   "file_extension": ".py",
   "mimetype": "text/x-python",
   "name": "python",
   "nbconvert_exporter": "python",
   "pygments_lexer": "ipython3",
   "version": "3.9.13"
  }
 },
 "nbformat": 4,
 "nbformat_minor": 1
}
