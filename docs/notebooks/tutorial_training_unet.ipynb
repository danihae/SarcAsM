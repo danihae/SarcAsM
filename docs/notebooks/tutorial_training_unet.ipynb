{
 "cells": [
  {
   "metadata": {},
   "cell_type": "markdown",
   "source": [
    "# Training of sarcomere U-Net++\n",
    "\n",
    "This tutorial explains the training of a U-Net++ neural network model for the simultaneous prediction of sarcomere Z-bands, M-bands, sarcomere orientation maps, sarcomere masks and cell masks from microscopy images. SarcAsM uses our `bio-image-unet` package, see [https://github.com/danihae/bio-image-unet](https://github.com/danihae/bio-image-unet). We strongly recommend using a GPU-equipped workstation or server for training. Make sure that [CUDA toolkit](https://developer.nvidia.com/cuda-toolkit-archive) along the respective version of [PyTorch](https://pytorch.org/get-started/locally/) are installed and verify the correct installation by\n",
    "```python \n",
    "import torch\n",
    "torch.cuda.is_available()\n",
    "```\n",
    "\n",
    "The generation of a training data set is explained in [this tutorial](tutorial_training_data_generation.ipynb).\n",
    "\n",
    "For training, the training data needs to be in the following directory structure, with exactly identical filenames for images and targets:\n",
    "\n",
    "```\n",
    "training_data/\n",
    "|\n",
    "├── image\n",
    "│   ├── 105.tif\n",
    "│   ├── 111.tif\n",
    "│   ├── image123xyz.tif\n",
    "│   ├── 121.tif\n",
    "│   ├── 1.tif\n",
    "│   ├── 2.tif\n",
    "│   └── 83.tif\n",
    "├── zbands\n",
    "│   ├── 105.tif\n",
    "│   ├── 111.tif\n",
    "│   ├── image123xyz.tif\n",
    "│   ├── 121.tif\n",
    "│   ├── 1.tif\n",
    "│   ├── 2.tif\n",
    "│   └── 83.tif\n",
    "├── orientation\n",
    "│   ├── 105.tif\n",
    "│   ├── 111.tif\n",
    "│   ├── image123xyz.tif\n",
    "│   ├── 121.tif\n",
    "│   ├── 1.tif\n",
    "│   ├── 2.tif\n",
    "│   └── 83.tif\n",
    "└── ....\n",
    "    ├── ....\n",
    "\n",
    "```"
   ]
  },
  {
   "metadata": {},
   "cell_type": "code",
   "source": [
    "# set paths of directories for images and targets\n",
    "dir_training_data = '../../training_data_tutorial/'  # modify path if needed\n",
    "dir_images = dir_training_data + '/image/'\n",
    "dir_zbands = dir_training_data + '/zbands/'\n",
    "dir_zbands_prelim = dir_training_data + '/zbands_prelim/'\n",
    "dir_mbands = dir_training_data + '/mbands/'\n",
    "dir_orientation = dir_training_data + '/orientation/'\n",
    "dir_sarcomere_mask = dir_training_data + '/sarcomere_mask/'\n",
    "dir_cell_mask = dir_training_data + '/cell_mask/'"
   ],
   "outputs": [],
   "execution_count": null
  },
  {
   "metadata": {},
   "cell_type": "markdown",
   "source": [
    "### Prepare and process training data\n",
    "\n",
    "Prior to training, the training images and labels are processed and augmented. For the different options for processing and augmentation (add noise, blur, adjust contrast, ...) see docstring or [API reference](../autoapi/bio_image_unet/multi_output_unet/data/index.html)."
   ]
  },
  {
   "metadata": {},
   "cell_type": "code",
   "source": [
    "import os\n",
    "import bio_image_unet.multi_output_unet as unet\n",
    "\n",
    "# temp dir\n",
    "dir_temp = '../../training_temp/'  # adjust when necessary\n",
    "os.makedirs(dir_temp, exist_ok=True)\n",
    "\n",
    "# define targets\n",
    "target_dirs = [dir_zbands, dir_mbands, dir_orientation, dir_sarcomere_mask, dir_cell_mask]\n",
    "target_types = {'zbands': 'mask', 'mbands': 'mask', 'orientation': 'mask', 'sarcomere_mask': 'mask', 'cell_mask': 'mask'}\n",
    "\n",
    "# prepare and augment training data\n",
    "data = unet.DataProcess(image_dir=dir_images, target_dirs=target_dirs, target_types=target_types, aug_factor=6, data_dir=dir_temp)"
   ],
   "outputs": [],
   "execution_count": null
  },
  {
   "metadata": {},
   "cell_type": "markdown",
   "source": [
    "### Set training parameters and train       \n",
    "\n",
    "For different training parameters, check the docstring `print(unet.Trainer.__doc__)` or [API reference](../autoapi/bio_image_unet/multi_output_unet/train/index.html)."
   ]
  },
  {
   "metadata": {},
   "cell_type": "code",
   "source": [
    "from bio_image_unet.multi_output_unet.multi_output_nested_unet import MultiOutputNestedUNet_3Levels\n",
    "\n",
    "# prepare output heads\n",
    "output_heads = {'zbands': {'channels': 1, 'activation': 'sigmoid', 'loss': 'BCEDiceLoss', 'weight': 2},\n",
    "                'midlines': {'channels': 1, 'activation': 'sigmoid', 'loss': 'BCEDiceLoss', 'weight': 2},\n",
    "                'cell_mask': {'channels': 1, 'activation': 'sigmoid', 'loss': 'BCEDiceLoss', 'weight': 0.5},\n",
    "                'sarcomere_mask': {'channels': 1, 'activation': 'sigmoid', 'loss': 'BCEDiceLoss', 'weight': 1},\n",
    "                'orientation': {'channels': 2, 'activation': None, 'loss': 'VectorFieldLoss', 'weight': 1}\n",
    "                }\n",
    "\n",
    "trainer = unet.Trainer(data, network=MultiOutputNestedUNet_3Levels, batch_size=4, num_epochs=100, lr=1e-4, n_filter=64,\n",
    "                  save_iter=True, output_heads=output_heads, deep_supervision=True, load_weights=False, levels=3,\n",
    "                  save_dir='../../training_temp/')\n",
    "\n",
    "# start training\n",
    "trainer.start()"
   ],
   "outputs": [],
   "execution_count": null
  },
  {
   "metadata": {},
   "cell_type": "markdown",
   "source": "After training is completed, the model parameters `model.pt` are stored in the `save_dir`."
  }
 ],
 "metadata": {
  "kernelspec": {
   "display_name": "Python 3",
   "language": "python",
   "name": "python3"
  },
  "language_info": {
   "codemirror_mode": {
    "name": "ipython",
    "version": 2
   },
   "file_extension": ".py",
   "mimetype": "text/x-python",
   "name": "python",
   "nbconvert_exporter": "python",
   "pygments_lexer": "ipython2",
   "version": "2.7.6"
  }
 },
 "nbformat": 4,
 "nbformat_minor": 0
}
