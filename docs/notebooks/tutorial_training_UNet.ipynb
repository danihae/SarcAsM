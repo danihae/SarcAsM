{
 "cells": [
  {
   "cell_type": "markdown",
   "source": [
    "# Training of U-Net\n",
    "\n",
    "This tutorial explains the creation of training data and the training of a U-Net neural network model for the prediction of sarcomere Z-bands from microscopy images. An analogous approach is used for the prediction of a cell mask. SarcAsM uses our package `bio-image-unet`, see [https://github.com/danihae/bio-image-unet](https://github.com/danihae/bio-image-unet). We strongly recommend using GPU-equipped workstation or server for training. Make sure that [CUDA toolkit](https://developer.nvidia.com/cuda-toolkit-archive) along the respective version of [PyTorch](https://pytorch.org/get-started/locally/) are installed and verify the installation by \n",
    "```python \n",
    "import torch\n",
    "torch.cuda.is_available()\n",
    "```"
   ],
   "metadata": {
    "collapsed": false
   }
  },
  {
   "cell_type": "markdown",
   "source": [
    "## Creation of training data set\n",
    "\n",
    "For training a custom model, we recommend selecting a representative training dataset of 20-50 images. If the images have multiple channels or frames, they should be transformed to single 1-channel grayscale images.\n",
    "\n",
    "We recommend the following folder structure for images and labels, with identical filenames for images and labels:\n",
    "\n",
    "```\n",
    "training_data/sarcomere_z_bands\n",
    "|\n",
    "├── image\n",
    "│   ├── 105.tif\n",
    "│   ├── 111.tif\n",
    "│   ├── image123xyz.tif\n",
    "│   ├── 121.tif\n",
    "│   ├── 1.tif\n",
    "│   ├── 2.tif\n",
    "│   └── 83.tif\n",
    "└── label\n",
    "    ├── 105.tif\n",
    "    ├── 111.tif\n",
    "    ├── image123xyz.tif\n",
    "    ├── 121.tif\n",
    "    ├── 1.tif\n",
    "    ├── 2.tif\n",
    "    └── 83.tif\n",
    "```"
   ],
   "metadata": {
    "collapsed": false
   }
  },
  {
   "metadata": {},
   "cell_type": "code",
   "source": [
    "import numpy as np\n",
    "\n",
    "# set paths of folders \n",
    "folder_images = '../../training_data_tutorial/image/'\n",
    "folder_labels = '../../training_data_tutorial/label/'"
   ],
   "outputs": [],
   "execution_count": null
  },
  {
   "metadata": {},
   "cell_type": "markdown",
   "source": [
    "### Generate small patches from large images or stacks (optional)\n",
    "\n",
    "To enhance training efficiency and speed up annotation processes, randomly crop patches from large images or stacks. This ensures a representative selection of samples for training."
   ]
  },
  {
   "cell_type": "code",
   "source": [
    "import glob\n",
    "import os\n",
    "import tifffile\n",
    "import numpy as np\n",
    "\n",
    "# create folders for patches\n",
    "folder_images_patches = '../../training_data_tutorial/image_patch/'\n",
    "folder_labels_patches = '../../training_data_tutorial/label_patch/'\n",
    "os.makedirs(folder_images_patches, exist_ok=True)\n",
    "os.makedirs(folder_labels_patches, exist_ok=True)\n",
    "\n",
    "# list images or stacks\n",
    "list_images = glob.glob(folder_images + '*.tif')\n",
    "\n",
    "# patch size and number per image\n",
    "patch_size = (512, 512)\n",
    "n_patches = 6\n",
    "\n",
    "# iterate through images and create random patches\n",
    "np.random.seed(0)\n",
    "for image in list_images:\n",
    "    data = tifffile.imread(image)\n",
    "    x_patches, y_patches = np.random.randint(0, data.shape[0]-patch_size[0], size=n_patches), np.random.randint(0, data.shape[1]-patch_size[1], size=n_patches)\n",
    "    for x, y in zip(x_patches, y_patches):\n",
    "        patch = data[y:y+patch_size[1], x:x+patch_size[0]]\n",
    "        name = folder_images_patches + os.path.splitext(os.path.basename(image))[0] + f'_patch_{y}x{x}.tif'\n",
    "        tifffile.imwrite(name, patch)"
   ],
   "metadata": {
    "collapsed": false
   },
   "outputs": [],
   "execution_count": null
  },
  {
   "metadata": {},
   "cell_type": "markdown",
   "source": [
    "### Annotation of images\n",
    "\n",
    "For annotation of sarcomere Z-bands or other targets, an application on tablet equipped with a pen, or a bio-image viewer (e.g., ImageJ or napari) can be used to create binary mask of sarcomere Z-bands, see Figure below. Here we demonstrate the annotation using a custom script built in [napari](https://napari.org/stable/) included in our package [bio-image-unet](https://github.com/danihae/bio-image-unet). It iterates through all images, when a annotation is finished, press \"Save and Next\" to proceed to the next image."
   ]
  },
  {
   "metadata": {},
   "cell_type": "code",
   "source": [
    "from biu.utils.image_annotator import ImageAnnotator\n",
    "\n",
    "# Annotate all images, press \"Save and Next\" when image is finished\n",
    "annotator = ImageAnnotator(\n",
    "    folder_images=folder_images_patches,  \n",
    "    output_folder=folder_labels_patches,  \n",
    "    label_name='Z-bands',  \n",
    "    brush_size=4\n",
    ")"
   ],
   "outputs": [],
   "execution_count": null
  },
  {
   "metadata": {},
   "cell_type": "markdown",
   "source": [
    "## Training\n",
    "\n",
    "### Prepare and process training data\n",
    "\n",
    "Prior to training, the training images and labels are processed and augmented. For the different options for processing and augmentation (add noise, blur, adjust contrast, ...) see docstring of `DataProcess`."
   ]
  },
  {
   "metadata": {},
   "cell_type": "code",
   "source": [
    "import biu.unet as unet\n",
    "\n",
    "# select folders with images and labels, see above\n",
    "folder_images_patches = '../../training_data_tutorial/image_patch/'\n",
    "folder_labels_patches = '../../training_data_tutorial/label_patch/'\n",
    "\n",
    "# temp folder\n",
    "folder_temp = '../../training_data_tutorial/temp/'\n",
    "os.makedirs(folder_temp, exist_ok=True)\n",
    "\n",
    "# prepare and process training data\n",
    "data = unet.DataProcess(folder_images_patches, folder_labels_patches, aug_factor=6, data_path=folder_temp)"
   ],
   "outputs": [],
   "execution_count": null
  },
  {
   "metadata": {},
   "cell_type": "markdown",
   "source": [
    "### Set training parameters and train       \n",
    "\n",
    "For different training parameters, check the docstring of `unet.Trainer`."
   ]
  },
  {
   "cell_type": "code",
   "source": [
    "# set training parameters\n",
    "trainer = unet.Trainer(dataset=data, num_epochs=100, loss_function='BCEDice')\n",
    "\n",
    "# start training\n",
    "trainer.start()"
   ],
   "metadata": {
    "collapsed": false
   },
   "outputs": [],
   "execution_count": null
  },
  {
   "metadata": {},
   "cell_type": "markdown",
   "source": "After training is completed, the model parameters `model.pth` are stored in the `folder_temp`. "
  }
 ],
 "metadata": {
  "kernelspec": {
   "display_name": "Python 3",
   "language": "python",
   "name": "python3"
  },
  "language_info": {
   "codemirror_mode": {
    "name": "ipython",
    "version": 2
   },
   "file_extension": ".py",
   "mimetype": "text/x-python",
   "name": "python",
   "nbconvert_exporter": "python",
   "pygments_lexer": "ipython2",
   "version": "2.7.6"
  }
 },
 "nbformat": 4,
 "nbformat_minor": 0
}
