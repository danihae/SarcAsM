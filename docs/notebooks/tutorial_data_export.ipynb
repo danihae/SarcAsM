{
 "cells": [
  {
   "metadata": {},
   "cell_type": "markdown",
   "source": [
    "# Data export\n",
    "\n",
    "All data associated with the analysis of a TIF file or LOI, including metadata, results, and analysis parameters, are stored in the .json format. JSON (JavaScript Object Notation) is an open standard format that uses human-readable text to store and transmit data objects consisting of attribute–value pairs and array data types. JSON is language-independent and widely supported across various programming languages.\n",
    "\n",
    "To read a JSON file in Python:\n",
    "```\n",
    "import json\n",
    "\n",
    "# Load JSON data from a file\n",
    "with open('data.json', 'r') as file:\n",
    "    data = json.load(file)\n",
    "\n",
    "# Access data\n",
    "print(data)\n",
    "```\n",
    "\n",
    "SarcAsM further provides high-level functions to directly export data and summary statistics of one or multiple TIF files or LOIs as .xlsx or .csv file:"
   ]
  },
  {
   "metadata": {},
   "cell_type": "markdown",
   "source": [
    "## Structural data of single TIF file\n",
    "\n",
    "For a single TIF file /`Structure` object, use `Export.export_structure_data` for export as .xlsx or .csv file. Features can be specified by list `structure_keys`, see [list of structure features](../structure_features.rst)."
   ]
  },
  {
   "metadata": {},
   "cell_type": "code",
   "outputs": [],
   "execution_count": null,
   "source": [
    "from sarcasm.export import Export\n",
    "\n",
    "Export.export_structure_data('/path/to/xlsx/file.xlsx', sarc_obj)"
   ]
  },
  {
   "metadata": {},
   "cell_type": "markdown",
   "source": [
    "## Motion data of single LOI\n",
    "\n",
    "For a single LOI /`Motion` object, use `Export.export_motion_data` for export as .xlsx or .csv file. Features can be specified by list `motion_keys`, see [list of motion features](../motion_features.rst). "
   ]
  },
  {
   "metadata": {},
   "cell_type": "code",
   "outputs": [],
   "execution_count": null,
   "source": [
    "from sarcasm.export import Export\n",
    "\n",
    "Export.export_motion_data('/path/to/xlsx/file.xlsx', mot_obj)"
   ]
  },
  {
   "cell_type": "markdown",
   "metadata": {
    "collapsed": true
   },
   "source": [
    "## Data of multiple TIF-files or LOIs\n",
    "\n",
    "The `MultiStructureAnalysis` class is designed for multi-file comparison of structure. It allows users to iterate through a list of tif files, add metadata using regex functions, extract structure data, and store the data in one pandas DataFrame and export as .xlsx or .csv file. Details see [API reference](../autoapi/sarcasm/export/index.html#sarcasm.export.MultiStructureAnalysis).\n",
    "\n",
    "The `MultiLOIAnalysis` class, on the other hand, is used for multi-ROI comparison. It enables users to iterate through a list of tif files and ROI names, add metadata using regex functions, extract motion data, and store the data in a pandas DataFrame and export as .xlsx or .csv file. Details see [API reference](../autoapi/sarcasm/export/index.html#sarcasm.export.MultiLOIAnalysis).\n",
    "\n",
    "Below is an example how to use `MultiStructureAnalysis` (analogous for `MultiLOIAnalysis`)."
   ]
  },
  {
   "cell_type": "code",
   "execution_count": null,
   "metadata": {},
   "outputs": [],
   "source": [
    "import os\n",
    "\n",
    "import glob\n",
    "import re\n",
    "\n",
    "from sarcasm import *\n",
    "\n",
    "\n",
    "# select folder with tif files and create folder for results\n",
    "files_folder = 'D:/2023_SarcAsM_drugs_chronic/'\n",
    "result_folder = 'D:/2023_SarcAsM_drugs_chronic/results/'\n",
    "os.makedirs(result_folder, exist_ok=True)\n",
    "\n",
    "# find all tif files in folder\n",
    "tif_files = glob.glob(files_folder + '*/*.tif')\n",
    "print(f'{len(tif_files)} tif-files found')\n",
    "\n",
    "# example regex function to extract date from filename (e.g. '20230502_wt_isoprenaline_10uM.tif')\n",
    "date = lambda filename: re.search(r'(\\d{4})(\\d{2})(\\d{2})', filename).group(0)\n",
    "\n",
    "# initialize MultiStructureAnalysis object\n",
    "multi_structure = MultiStructureAnalysis(list_files=tif_files, folder=result_folder, experiment='test_123', date=date)\n",
    "\n",
    "# specify structure and metadata keys\n",
    "structure_keys = ['z_length_mean', 'sarcomere_area_ratio']  # all keys see list of structure features\n",
    "meta_keys = ['tif_name', 'file_id', 'date', 'experiment']  # more keys see print(Export.meta_keys_default)\n",
    "\n",
    "# get structure data of tif-files\n",
    "multi_structure.get_data(structure_keys=structure_keys, meta_keys=meta_keys)"
   ]
  },
  {
   "metadata": {},
   "cell_type": "markdown",
   "source": "The resulting pandas DataFrame can be exported to .xlsx or .csv:"
  },
  {
   "metadata": {},
   "cell_type": "code",
   "outputs": [],
   "execution_count": null,
   "source": "multi_structure.export_data('/path/to/file.xlsx', format='.xlsx')"
  }
 ],
 "metadata": {
  "kernelspec": {
   "display_name": "Python 3 (ipykernel)",
   "language": "python",
   "name": "python3"
  },
  "language_info": {
   "codemirror_mode": {
    "name": "ipython",
    "version": 3
   },
   "file_extension": ".py",
   "mimetype": "text/x-python",
   "name": "python",
   "nbconvert_exporter": "python",
   "pygments_lexer": "ipython3",
   "version": "3.9.13"
  }
 },
 "nbformat": 4,
 "nbformat_minor": 1
}
