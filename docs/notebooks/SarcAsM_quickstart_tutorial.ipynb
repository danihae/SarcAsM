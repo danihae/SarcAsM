{
 "cells": [
  {
   "cell_type": "markdown",
   "metadata": {},
   "source": [
    "# Python Interface Quickstart\n"
   ]
  },
  {
   "cell_type": "markdown",
   "metadata": {},
   "source": [
    "\n",
    "**SarcAsM** is a Python package for computational analysis of sarcomere structure and motion in cardiomyocytes. In this quickstart tutorial a general workflow including all functionalities is presented. Function parameters are explained in docstrings. Further documentation can be found in package API reference. SarcAsM processes single images as well as movies."
   ]
  },
  {
   "cell_type": "code",
   "execution_count": null,
   "metadata": {
    "pycharm": {
     "name": "#%%\n"
    }
   },
   "outputs": [],
   "source": [
    "# import package\n",
    "from sarcasm.package import *"
   ]
  },
  {
   "cell_type": "code",
   "execution_count": null,
   "metadata": {},
   "outputs": [],
   "source": [
    "# select tif file and initialize SarcAsM object\n",
    "tif_file = '../test_data/Series32_20kPa.tif'\n",
    "sarc_obj = SarcAsM(tif_file, restart=False)"
   ]
  },
  {
   "cell_type": "code",
   "execution_count": null,
   "metadata": {},
   "outputs": [],
   "source": [
    "# predict sarcomere z-bands with (Siam-)U-Net CNN\n",
    "network_path = '../trained_networks/siam_unet_sarcomeres.pth'\n",
    "sarc_obj.predict_z_bands(siam_unet=True, network_path=network_path, size=(256, 1024))"
   ]
  },
  {
   "cell_type": "markdown",
   "metadata": {},
   "source": [
    "## Structure analysis\n",
    "\n",
    "1. Segmentation and morphometric analysis of sarcomere z-bands\n",
    "2. Wavelet analysis of local sarcomere lengths and orientations\n",
    "3. Myofibril line growth algorithm for myofibril lengths and curvature analysis\n",
    "\n",
    "By default all frames are analyzed and features are computed for each frame (``timepoints='all'``). To analyze only one frame or a range of frames, choose e.g.,``timepoints=10``, ``timepoints=[2,5,87]`` or ``timepoints=np.arange(100)``. \n",
    "\n",
    "All results are stored in dictionary ``sarc_obj.structure``. The dictionary is saved as .json file to the project folder after each analysis step. "
   ]
  },
  {
   "cell_type": "markdown",
   "metadata": {},
   "source": [
    "#### 1. Segmentation and morphometric analysis of sarcomere z-bands"
   ]
  },
  {
   "cell_type": "code",
   "execution_count": null,
   "metadata": {
    "scrolled": false
   },
   "outputs": [],
   "source": [
    "sarc_obj.analyze_z_bands(timepoints=0)"
   ]
  },
  {
   "cell_type": "markdown",
   "metadata": {},
   "source": [
    "#### 2. Wavelet analysis of local sarcomere lengths and orientations"
   ]
  },
  {
   "cell_type": "code",
   "execution_count": null,
   "metadata": {
    "scrolled": false
   },
   "outputs": [],
   "source": [
    "sarc_obj.wavelet_analysis(timepoints=0)"
   ]
  },
  {
   "cell_type": "markdown",
   "metadata": {},
   "source": [
    "#### 3. Myofibril line growth algorithm for myofibril lengths and curvature analysis\n",
    "\n",
    "``timepoints`` are inherited from step 2."
   ]
  },
  {
   "cell_type": "code",
   "execution_count": null,
   "metadata": {
    "scrolled": false
   },
   "outputs": [],
   "source": [
    "sarc_obj.analyze_myofibrils(timepoints=0, n_seeds=200)"
   ]
  },
  {
   "cell_type": "markdown",
   "metadata": {},
   "source": [
    "To run steps 1-3 at once with default parameters, use ``sarc_obj.fast_analysis_structure()``."
   ]
  },
  {
   "cell_type": "markdown",
   "metadata": {},
   "source": [
    "## Motion analysis\n",
    "\n",
    "0. Automatically detect line ROIs for sarcomere motion tracking\n",
    "1. Detect peaks from kymographs\n",
    "2. Track z-band positions\n",
    "3. Detect and analyze systoles from average sarcomere length\n",
    "4. Calculate sarcomere displacements and velocities\n",
    "5. Analyze trajectories"
   ]
  },
  {
   "cell_type": "markdown",
   "metadata": {},
   "source": [
    "#### Detect ROI lines for motion analysis"
   ]
  },
  {
   "cell_type": "code",
   "execution_count": null,
   "metadata": {},
   "outputs": [],
   "source": [
    "sarc_obj.detect_rois(timepoint=0, plot=True)"
   ]
  },
  {
   "cell_type": "markdown",
   "metadata": {},
   "source": [
    "### Select ROI"
   ]
  },
  {
   "cell_type": "code",
   "execution_count": null,
   "metadata": {},
   "outputs": [],
   "source": [
    "# find all ROI files of cell\n",
    "roi_files = glob.glob(sarc_obj.folder + '*.json')\n",
    "\n",
    "# select ROI from list\n",
    "i = 1\n",
    "\n",
    "# initialize object\n",
    "roi_file = os.path.basename(roi_files[i])\n",
    "roi = Motion(tif_file, roi_file)"
   ]
  },
  {
   "cell_type": "markdown",
   "metadata": {},
   "source": [
    "### Detect peaks"
   ]
  },
  {
   "cell_type": "code",
   "execution_count": null,
   "metadata": {},
   "outputs": [],
   "source": [
    "# find peaks of intensity profiles\n",
    "roi.detekt_peaks(thres=0.05)"
   ]
  },
  {
   "cell_type": "markdown",
   "metadata": {},
   "source": [
    "### Track z-band trajectories"
   ]
  },
  {
   "cell_type": "code",
   "execution_count": null,
   "metadata": {},
   "outputs": [],
   "source": [
    "# track peaks with Crocker-Grier algorithm\n",
    "roi.track_z_bands()"
   ]
  },
  {
   "cell_type": "markdown",
   "metadata": {},
   "source": [
    "### Detect systoles with neural network and analyze contraction cycles"
   ]
  },
  {
   "cell_type": "code",
   "execution_count": null,
   "metadata": {},
   "outputs": [],
   "source": [
    "# smoothing of z-band trajectories\n",
    "roi.filter_z_pos()"
   ]
  },
  {
   "cell_type": "code",
   "execution_count": null,
   "metadata": {},
   "outputs": [],
   "source": [
    "roi.detect_analyze_systoles(plot=True, contr_time_min=0.15, merge_time_max=0.025, threshold=0.4, perc=None)"
   ]
  },
  {
   "cell_type": "markdown",
   "metadata": {},
   "source": [
    "### Calculate sarcomere resting lengths, displacements and velocities"
   ]
  },
  {
   "cell_type": "code",
   "execution_count": null,
   "metadata": {},
   "outputs": [],
   "source": [
    "roi.get_sarcomere_trajectories()"
   ]
  },
  {
   "cell_type": "markdown",
   "metadata": {},
   "source": [
    "### Analyze sarcomere trajectories (min and max in each contraction cycle)"
   ]
  },
  {
   "cell_type": "code",
   "execution_count": null,
   "metadata": {},
   "outputs": [],
   "source": [
    "roi.analyze_sarcomere_trajectories()"
   ]
  },
  {
   "cell_type": "markdown",
   "metadata": {},
   "source": [
    "### Analyze sarcomere popping"
   ]
  },
  {
   "cell_type": "code",
   "execution_count": null,
   "metadata": {},
   "outputs": [],
   "source": [
    "roi.analyze_popping()"
   ]
  },
  {
   "cell_type": "markdown",
   "metadata": {},
   "source": [
    "### Plot summary of ROI"
   ]
  },
  {
   "cell_type": "code",
   "execution_count": null,
   "metadata": {},
   "outputs": [],
   "source": [
    "plot_roi_summary_motion(roi, number_contr=4, t_lim=(-0.1, 2.3))"
   ]
  },
  {
   "cell_type": "code",
   "execution_count": null,
   "metadata": {},
   "outputs": [],
   "source": []
  }
 ],
 "metadata": {
  "kernelspec": {
   "display_name": "Python 3 (ipykernel)",
   "language": "python",
   "name": "python3"
  },
  "language_info": {
   "codemirror_mode": {
    "name": "ipython",
    "version": 3
   },
   "file_extension": ".py",
   "mimetype": "text/x-python",
   "name": "python",
   "nbconvert_exporter": "python",
   "pygments_lexer": "ipython3",
   "version": "3.9.13"
  }
 },
 "nbformat": 4,
 "nbformat_minor": 4
}
