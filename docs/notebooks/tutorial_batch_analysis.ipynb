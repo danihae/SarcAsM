{
 "cells": [
  {
   "metadata": {},
   "cell_type": "markdown",
   "source": "# Batch processing of large data sets"
  },
  {
   "metadata": {},
   "cell_type": "markdown",
   "source": "For the analysis of large data sets, we recommend parallel batch processing for faster run times. Below are scripts for structural and functional analysis using of multiple tif-files using `multiprocessing`. "
  },
  {
   "metadata": {},
   "cell_type": "markdown",
   "source": [
    "## Structural analysis\n",
    "\n",
    "Parameters for batch analysis should be optimized on one or few representative tif-files. Details on the analysis of sarcomere structure for a single tif-file can be found [here](tutorial_structure_analysis.ipynb)."
   ]
  },
  {
   "metadata": {},
   "cell_type": "code",
   "source": [
    "# copy this code in .py file and execute. \n",
    "\n",
    "import glob\n",
    "from multiprocessing import Pool\n",
    "from sarcasm import *\n",
    "\n",
    "# select folder with tif files\n",
    "folder = 'D:/2023_SarcAsM_drugs_chronic/'\n",
    "\n",
    "# find all tif files in folder\n",
    "tif_files = glob.glob(folder + '*/*.tif')\n",
    "print(f'{len(tif_files)} tif-files found')\n",
    "\n",
    "# function for analysis of single tif-file\n",
    "def analyze_tif(file):\n",
    "    print(file)\n",
    "    # initialize SarcAsM object\n",
    "    sarc_obj = SarcAsM(file)\n",
    "\n",
    "    # detect sarcomere z-bands, m-bands, sarcomere orientation and cell masks\n",
    "    sarc_obj.structure.detect_sarcomeres(max_patch_size=(2048, 2048))\n",
    "\n",
    "    # analyze sarcomere structures (or use step-by-step analysis, see tutorial structure analysis)\n",
    "    sarc_obj.structure.full_analysis_structure(frames='all')\n",
    "\n",
    "    print(f'{file} successfully analyzed!')\n",
    "\n",
    "\n",
    "# set number of pools\n",
    "n_pools = 3\n",
    "\n",
    "if __name__ == '__main__':\n",
    "    with Pool(n_pools) as p:\n",
    "        p.map(analyze_tif, tif_files)"
   ],
   "outputs": [],
   "execution_count": null
  },
  {
   "metadata": {},
   "cell_type": "markdown",
   "source": [
    "## Motion analysis\n",
    "\n",
    "Parameters for batch analysis should be optimized on one or few representative tif-files. Details on the functional analysis of a single movie of a beating cardiomyocyte can be found [here](tutorial_motion_analysis.ipynb)."
   ]
  },
  {
   "metadata": {},
   "cell_type": "code",
   "source": [
    "# copy this code in .py file and execute. \n",
    "\n",
    "from multiprocessing import Pool\n",
    "from sarcasm import *\n",
    "\n",
    "folder = 'D:/SarcAsM_drugs/'\n",
    "\n",
    "# find files\n",
    "files = glob.glob(folder + '/*/*.tif')\n",
    "print(f'{len(files)} tif-files found')\n",
    "\n",
    "# detect LOIs\n",
    "def detect_lois(file):\n",
    "    # initialize file\n",
    "    sarc_obj = SarcAsM(file)\n",
    "\n",
    "    # detect all sarcomere features for first frame only\n",
    "    sarc_obj.structure.detect_sarcomeres(frames=0)\n",
    "\n",
    "    # detect Z-bands for all frames with time-consistent 3D-U-Net\n",
    "    sarc_obj.structure.detect_z_bands_fast_movie()\n",
    "\n",
    "    # analyze sarcomere vectors in first frame\n",
    "    sarc_obj.structure.analyze_sarcomere_vectors(frames=0)\n",
    "\n",
    "    # detect lines of interest (LOIs)\n",
    "    sarc_obj.structure.detect_lois(n_lois=4)\n",
    "\n",
    "# analyze all LOIs of one tif-file\n",
    "def analyze_lois(file):\n",
    "    lois = Utils.get_lois_of_file(file)\n",
    "    for file, loi in lois:\n",
    "        try:\n",
    "            # initialize LOI\n",
    "            mot_obj = Motion(file, loi)\n",
    "\n",
    "            # analysis of LOI with default parameters\n",
    "            mot_obj.full_analysis_loi()\n",
    "\n",
    "        except Exception as e:\n",
    "            print(file, loi)\n",
    "            print(repr(e))\n",
    "\n",
    "\n",
    "if __name__ == '__main__':\n",
    "    # find LOIs\n",
    "    with Pool(4) as p:\n",
    "        p.map(detect_lois, files)\n",
    "    \n",
    "    # analyze LOIs\n",
    "    with Pool(12) as p:\n",
    "        p.map(analyze_lois, files)"
   ],
   "outputs": [],
   "execution_count": null
  }
 ],
 "metadata": {
  "kernelspec": {
   "display_name": "Python 3 (ipykernel)",
   "language": "python",
   "name": "python3"
  },
  "language_info": {
   "codemirror_mode": {
    "name": "ipython",
    "version": 3
   },
   "file_extension": ".py",
   "mimetype": "text/x-python",
   "name": "python",
   "nbconvert_exporter": "python",
   "pygments_lexer": "ipython3",
   "version": "3.9.13"
  }
 },
 "nbformat": 4,
 "nbformat_minor": 1
}
