{
 "cells": [
  {
   "cell_type": "markdown",
   "metadata": {
    "collapsed": true
   },
   "source": [
    "# Batch processing of large data sets"
   ]
  },
  {
   "cell_type": "markdown",
   "metadata": {},
   "source": [
    "For large data sets, we recommend parallel batch processing for faster analysis. Below are scripts for structural and functional analysis using `multiprocessing`. \n",
    "\n",
    "Further down are examples for pooling data from multiple tif-files (i.e., from one experiment) in one DataFrame for comparative analyses."
   ]
  },
  {
   "cell_type": "markdown",
   "metadata": {},
   "source": [
    "## Structural analysis"
   ]
  },
  {
   "cell_type": "code",
   "execution_count": null,
   "metadata": {},
   "outputs": [],
   "source": [
    "# copy the code in .py file and execute .py file. \n",
    "\n",
    "from multiprocessing import Pool\n",
    "from sarcasm import *\n",
    "\n",
    "# select folder with tif files\n",
    "folder = 'D:/2023_SarcAsM_drugs_chronic/'\n",
    "\n",
    "# find all tif files in folder\n",
    "tif_files = glob.glob(folder + '*/*.tif')\n",
    "print(f'{len(tif_files)} tif-files found')\n",
    "\n",
    "# function for analysis of single tif-file\n",
    "def analyze_tif(file):\n",
    "    print(file)\n",
    "    # initialize SarcAsM object\n",
    "    sarc_obj = SarcAsM(file)\n",
    "\n",
    "    # predict sarcomere z-bands and cell area\n",
    "    sarc_obj.predict_z_bands(size=(2048, 2048))\n",
    "    sarc_obj.predict_cell_area(size=(2048, 2048))\n",
    "\n",
    "    # analyze cell area and sarcomere area\n",
    "    sarc_obj.analyze_cell_area(timepoints='all')\n",
    "    sarc_obj.analyze_sarcomere_area(timepoints='all')\n",
    "\n",
    "    # analyze sarcomere structures\n",
    "    sarc_obj.full_analysis_structure(timepoints='all')\n",
    "\n",
    "    print(f'{file} successfully analyzed!')\n",
    "\n",
    "\n",
    "# set number of pools\n",
    "n_pools = 3\n",
    "\n",
    "if __name__ == '__main__':\n",
    "    with Pool(n_pools) as p:\n",
    "        p.map(analyze_tif, tif_files)"
   ]
  },
  {
   "cell_type": "markdown",
   "metadata": {},
   "source": [
    "## Motion analysis"
   ]
  },
  {
   "cell_type": "code",
   "execution_count": null,
   "metadata": {},
   "outputs": [],
   "source": [
    "# copy the code in .py file and execute .py file. \n",
    "\n",
    "from multiprocessing import Pool\n",
    "from sarcasm import *\n",
    "\n",
    "folder = 'D:/SarcAsM_drugs/'\n",
    "\n",
    "# find files\n",
    "files = glob.glob(folder + '/*/*.tif')[::-1]\n",
    "print(f'{len(files)} tif-files found')\n",
    "\n",
    "\n",
    "def find_rois(file):\n",
    "    sarc_obj = SarcAsM(file)\n",
    "    sarc_obj.predict_z_bands(siam_unet=True)\n",
    "    sarc_obj.analyze_sarcomere_length_orient(timepoints=0)\n",
    "    sarc_obj.detect_rois(timepoint=0)\n",
    "\n",
    "\n",
    "def analyze_motion(file):\n",
    "    rois = get_rois_of_cell(file)\n",
    "    for file, roi in rois:\n",
    "        try:\n",
    "            mot_obj = Motion(file, roi)\n",
    "            mot_obj.full_analysis_roi()\n",
    "        except Exception as e:\n",
    "            print(file, roi)\n",
    "            print(repr(e))\n",
    "\n",
    "\n",
    "if __name__ == '__main__':\n",
    "    # find ROIs\n",
    "    with Pool(4) as p:\n",
    "        p.map(find_rois, files)\n",
    "    \n",
    "    # analyze ROIs\n",
    "    with Pool(12) as p:\n",
    "        p.map(analyze_motion, files)\n",
    "    \n",
    "    \n",
    "    "
   ]
  },
  {
   "cell_type": "markdown",
   "metadata": {},
   "source": [
    "## Pool analyses of multiple tif-files in one DataFrame\n",
    "\n",
    "After analysis of a dataset of tif-files, SarcAsM can pool the data into a dataframe for comparative analyses.\n",
    "\n",
    "The `MultiStructureAnalysis` class is designed for multi-file comparison of structure. It allows users to iterate through a list of tif files, add metadata using regex functions, extract structure data, and store the data in one pandas DataFrame. Users can also save and load the DataFrame from a specified data folder. Details see [here](../_autosummary/sarcasm.export.MultiStructureAnalysis.html).\n",
    "\n",
    "The `MultiROIAnalysis` class, on the other hand, is used for multi-ROI comparison. It enables users to iterate through a list of tif files and ROI names, add metadata using regex functions, extract motion data, and store the data in a pandas DataFrame. Similar to the MultiStructureAnalysis class, users can save and load the DataFrame from a specified data folder. Details see [here](../_autosummary/sarcasm.export.MultiROIAnalysis.html).\n",
    "\n",
    "Below is an example how to use `MultiStructureAnalysis` (analogous for `MultiROIAnalysis`).\n"
   ]
  },
  {
   "cell_type": "code",
   "execution_count": null,
   "metadata": {},
   "outputs": [],
   "source": [
    "from sarcasm import *\n",
    "\n",
    "# select folder with tif files\n",
    "files_folder = 'D:/2023_SarcAsM_drugs_chronic/'\n",
    "data_folder = 'D:/2023_SarcAsM_drugs_chronic/data/'\n",
    "\n",
    "# find all tif files in folder\n",
    "tif_files = glob.glob(folder + '*/*.tif')\n",
    "print(f'{len(tif_files)} tif-files found')\n",
    "\n",
    "# example regex function to extract date from filename (e.g. '20230502_wt_isoprenaline_10uM.tif')\n",
    "date = lambda filename: re.search(r'(\\d{4})(\\d{2})(\\d{2})', filename).group(0)\n",
    "\n",
    "# initialize MultiStructureAnalysis object\n",
    "multi_structure = MultiStructureAnalysis(list_files=tif_files, folder=data_folder, experiment='test', date=date)\n",
    "\n",
    "# specify structure and metadata keys\n",
    "structure_keys = ['z_length_mean', 'cell_area']  # more keys see print(structure_keys_default)\n",
    "meta_keys = ['tif_name', 'file_id']  # more keys see print(meta_keys_default)\n",
    "\n",
    "# get structure data of tif-files\n",
    "multi_structure.get_data(structure_keys=structure_keys, meta_keys=meta_keys)"
   ]
  },
  {
   "cell_type": "markdown",
   "metadata": {},
   "source": [
    "The resulting pandas DataFrame can be opened and accessed by:"
   ]
  },
  {
   "cell_type": "code",
   "execution_count": null,
   "metadata": {},
   "outputs": [],
   "source": [
    "import pandas as pd\n",
    "\n",
    "# read data frame\n",
    "df_experiment = pd.read_pickle('/path/to/dataframe.pd')\n",
    "\n",
    "# access e.g. Z-band mean lengths\n",
    "z_length = df_experiment['z_length_mean']"
   ]
  }
 ],
 "metadata": {
  "kernelspec": {
   "display_name": "Python 3 (ipykernel)",
   "language": "python",
   "name": "python3"
  },
  "language_info": {
   "codemirror_mode": {
    "name": "ipython",
    "version": 3
   },
   "file_extension": ".py",
   "mimetype": "text/x-python",
   "name": "python",
   "nbconvert_exporter": "python",
   "pygments_lexer": "ipython3",
   "version": "3.9.13"
  }
 },
 "nbformat": 4,
 "nbformat_minor": 1
}
