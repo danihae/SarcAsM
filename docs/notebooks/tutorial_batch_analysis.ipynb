{
 "cells": [
  {
   "cell_type": "markdown",
   "metadata": {
    "collapsed": true
   },
   "source": [
    "# Batch processing of large data sets"
   ]
  },
  {
   "cell_type": "markdown",
   "metadata": {},
   "source": "For the analysis of large data sets, we recommend parallel batch processing for faster run times. Below are scripts for structural and functional analysis using of multiple tif-files using `multiprocessing`. "
  },
  {
   "cell_type": "markdown",
   "metadata": {},
   "source": [
    "## Structural analysis\n",
    "\n",
    "Parameters for batch analysis should be optimized on one or few representative tif-files. Details on the analysis of sarcomere structure for a single tif-file can be found [here](tutorial_structure_analysis.ipynb)."
   ]
  },
  {
   "metadata": {},
   "cell_type": "raw",
   "source": [
    "# copy this code in .py file and execute. \n",
    "\n",
    "import glob\n",
    "from multiprocessing import Pool\n",
    "from sarcasm import *\n",
    "\n",
    "# select folder with tif files\n",
    "folder = 'D:/2023_SarcAsM_drugs_chronic/'\n",
    "\n",
    "# find all tif files in folder\n",
    "tif_files = glob.glob(folder + '*/*.tif')\n",
    "print(f'{len(tif_files)} tif-files found')\n",
    "\n",
    "# function for analysis of single tif-file\n",
    "def analyze_tif(file):\n",
    "    print(file)\n",
    "    # initialize SarcAsM object\n",
    "    sarc_obj = SarcAsM(file)\n",
    "\n",
    "    # predict sarcomere z-bands and cell area\n",
    "    sarc_obj.structure.predict_z_bands(size=(2048, 2048))\n",
    "    sarc_obj.structure.predict_cell_mask(size=(2048, 2048))\n",
    "\n",
    "    # analyze sarcomere structures (or use step-by-step analysis, see tutorial structure analysis)\n",
    "    sarc_obj.structure.full_analysis_structure(frames='all')\n",
    "\n",
    "    print(f'{file} successfully analyzed!')\n",
    "\n",
    "\n",
    "# set number of pools\n",
    "n_pools = 3\n",
    "\n",
    "if __name__ == '__main__':\n",
    "    with Pool(n_pools) as p:\n",
    "        p.map(analyze_tif, tif_files)"
   ]
  },
  {
   "cell_type": "markdown",
   "metadata": {},
   "source": [
    "## Motion analysis\n",
    "\n",
    "Parameters for batch analysis should be optimized on one or few representative tif-files. Details on the functional analysis of a single movie of a beating cardiomyocyte can be found [here](tutorial_motion_analysis.ipynb)."
   ]
  },
  {
   "metadata": {},
   "cell_type": "raw",
   "source": [
    "# copy this code in .py file and execute. \n",
    "\n",
    "from multiprocessing import Pool\n",
    "from sarcasm import *\n",
    "\n",
    "folder = 'D:/SarcAsM_drugs/'\n",
    "\n",
    "# find files\n",
    "files = glob.glob(folder + '/*/*.tif')[::-1]\n",
    "print(f'{len(files)} tif-files found')\n",
    "\n",
    "# detect LOIs\n",
    "def detect_lois(file):\n",
    "    sarc_obj = SarcAsM(file)\n",
    "    sarc_obj.structure.predict_z_bands(time_consistent=True)\n",
    "    sarc_obj.analyze_sarcomere_vectors(frames=0)\n",
    "    sarc_obj.detect_rois(frame=0)\n",
    "\n",
    "# analyze all LOIs of one tif-file\n",
    "def analyze_lois(file):\n",
    "    lois = Utils.get_lois_of_file(file)\n",
    "    for file, loi in lois:\n",
    "        try:\n",
    "            mot_obj = Motion(file, loi)\n",
    "            mot_obj.full_analysis_roi()\n",
    "        except Exception as e:\n",
    "            print(file, loi)\n",
    "            print(repr(e))\n",
    "\n",
    "\n",
    "if __name__ == '__main__':\n",
    "    # find ROIs\n",
    "    with Pool(4) as p:\n",
    "        p.map(detect_lois, files)\n",
    "    \n",
    "    # analyze ROIs\n",
    "    with Pool(12) as p:\n",
    "        p.map(analyze_lois, files)"
   ]
  }
 ],
 "metadata": {
  "kernelspec": {
   "display_name": "Python 3 (ipykernel)",
   "language": "python",
   "name": "python3"
  },
  "language_info": {
   "codemirror_mode": {
    "name": "ipython",
    "version": 3
   },
   "file_extension": ".py",
   "mimetype": "text/x-python",
   "name": "python",
   "nbconvert_exporter": "python",
   "pygments_lexer": "ipython3",
   "version": "3.9.13"
  }
 },
 "nbformat": 4,
 "nbformat_minor": 1
}
